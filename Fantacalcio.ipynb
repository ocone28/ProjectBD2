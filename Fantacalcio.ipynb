{
 "cells": [
  {
   "cell_type": "code",
   "execution_count": 5,
   "id": "076ca76c",
   "metadata": {},
   "outputs": [
    {
     "name": "stdout",
     "output_type": "stream",
     "text": [
      "{'_id': ObjectId('66743bf183473eb71307395f'), 'Cognome': 'Musso', 'Nome Completo': 'Musso Juan', 'Ruolo': 'P', 'Ruoli Mantra': 'Por', 'Quotazione Attuale': 5, 'Quotazione Iniziale': 3, 'Squadra': 'Atalanta', 'Piede': 'destro', 'Nazionalità': 'Argentina;Italia', 'Data Nascita': '06/05/1994 00:00:00', 'Foto': 'https://content.fantacalcio.it/web/campioncini/card2021/MUSSO.png?v=56', 'Media Voto': 6.14, 'Media Fantavoto': 5.05}\n"
     ]
    }
   ],
   "source": [
    "from pymongo import MongoClient\n",
    "\n",
    "# Connessione a MongoDB\n",
    "client = MongoClient('localhost', 27017)\n",
    "\n",
    "# Accesso a un database\n",
    "db = client['Fantacalcio']\n",
    "\n",
    "# Accesso a una collezione\n",
    "collection = db['Calciatori']\n",
    "\n",
    "\n",
    "# Recupero di un documento\n",
    "result = collection.find_one({\"Cognome\": \"Musso\"})\n",
    "print(result)\n"
   ]
  },
  {
   "cell_type": "code",
   "execution_count": null,
   "id": "f79ab05d",
   "metadata": {},
   "outputs": [],
   "source": []
  },
  {
   "cell_type": "code",
   "execution_count": null,
   "id": "c90da024",
   "metadata": {},
   "outputs": [],
   "source": []
  }
 ],
 "metadata": {
  "kernelspec": {
   "display_name": "Python 3 (ipykernel)",
   "language": "python",
   "name": "python3"
  },
  "language_info": {
   "codemirror_mode": {
    "name": "ipython",
    "version": 3
   },
   "file_extension": ".py",
   "mimetype": "text/x-python",
   "name": "python",
   "nbconvert_exporter": "python",
   "pygments_lexer": "ipython3",
   "version": "3.9.13"
  }
 },
 "nbformat": 4,
 "nbformat_minor": 5
}
